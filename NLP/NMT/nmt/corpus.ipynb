{
 "cells": [
  {
   "cell_type": "code",
   "execution_count": 19,
   "metadata": {
    "collapsed": true
   },
   "outputs": [],
   "source": [
    "import numpy as np\n",
    "import re"
   ]
  },
  {
   "cell_type": "code",
   "execution_count": 20,
   "metadata": {},
   "outputs": [],
   "source": [
    "a=np.array([0.2,0.4,2,-5])"
   ]
  },
  {
   "cell_type": "code",
   "execution_count": 21,
   "metadata": {},
   "outputs": [
    {
     "data": {
      "text/plain": [
       "array([], dtype=float64)"
      ]
     },
     "execution_count": 21,
     "metadata": {},
     "output_type": "execute_result"
    }
   ],
   "source": [
    "a[a<-10]"
   ]
  },
  {
   "cell_type": "code",
   "execution_count": 22,
   "metadata": {},
   "outputs": [],
   "source": [
    "if a[a<-10].size:\n",
    "    print(1)"
   ]
  },
  {
   "cell_type": "code",
   "execution_count": 23,
   "metadata": {},
   "outputs": [],
   "source": [
    "path=r'E:\\pyProject\\TensorflowExercises\\NLP\\nmt\\nmt\\examples'"
   ]
  },
  {
   "cell_type": "code",
   "execution_count": 24,
   "metadata": {},
   "outputs": [],
   "source": [
    "with open(path, 'r', encoding='utf8') as f:\n",
    "    text=f.read()"
   ]
  },
  {
   "cell_type": "code",
   "execution_count": 25,
   "metadata": {},
   "outputs": [
    {
     "data": {
      "text/plain": [
       "[' 数学 魔术 。 ’', ' 雨人 ’ 。\\n他们 是不是 在 衣服 底下 藏 了 什么 东西 ？ 将会 发生 什么 事情 ？ ’\\n’']"
      ]
     },
     "execution_count": 25,
     "metadata": {},
     "output_type": "execute_result"
    }
   ],
   "source": [
    "re.findall('[^‘]*’',text)"
   ]
  },
  {
   "cell_type": "code",
   "execution_count": 26,
   "metadata": {},
   "outputs": [
    {
     "data": {
      "text/plain": [
       "['‘ 数']"
      ]
     },
     "execution_count": 26,
     "metadata": {},
     "output_type": "execute_result"
    }
   ],
   "source": [
    "re.findall(r'‘(?=[^\\n]*) 数',text)"
   ]
  },
  {
   "cell_type": "code",
   "execution_count": 27,
   "metadata": {},
   "outputs": [
    {
     "name": "stdout",
     "output_type": "stream",
     "text": [
      "也就是说 我 把 我 所 热爱 的 数学 跟 魔术 结合 起来 ， 给 它 取名 叫  &quot;  数学 魔术 。  &quot; \n我 不想 让 你们 以为 自己 看到 了  &quot;  雨人  &quot;  。\n他们 是不是 在 衣服 底下 藏 了 什么 东西 ？ 将会 发生 什么 事情 ？ ’\n’ 是 的 ， 我 已经 告诉 过 你 ， 你 根本 做不了 ，\n\n    '   &apos;\n    …  &hellip;\n    \"   &quot;\n\n"
     ]
    }
   ],
   "source": [
    "e=re.sub('‘([^\\n]*)’',r' &quot; \\1 &quot; ',text,flags=re.M)\n",
    "print(e)"
   ]
  },
  {
   "cell_type": "code",
   "execution_count": 28,
   "metadata": {},
   "outputs": [],
   "source": [
    ""
   ]
  },
  {
   "cell_type": "code",
   "execution_count": 28,
   "metadata": {},
   "outputs": [
    {
     "data": {
      "text/plain": [
       "'也就是说 我 把 我 所 热爱 的 数学 跟 魔术 结合 起来 ， 给 它 取名 叫 ‘ 数学 魔术 。 ’\\n我 不想 让 你们 以为 自己 看到 了 ‘ 雨人 ’ 。\\n他们 是不是 在 衣服 底下 藏 了 什么 东西 ？ 将会 发生 什么 事情 ？ ’\\n’ 是 的 ， 我 已经 告诉 过 你 ， 你 根本 做不了 ，\\n\\n    \\'   &apos;\\n    …  &hellip;\\n    \"   &quot;\\n'"
      ]
     },
     "execution_count": 28,
     "metadata": {},
     "output_type": "execute_result"
    }
   ],
   "source": [
    "text"
   ]
  },
  {
   "cell_type": "code",
   "execution_count": 29,
   "metadata": {},
   "outputs": [
    {
     "ename": "NameError",
     "evalue": "name 'b' is not defined",
     "traceback": [
      "\u001b[0;31m---------------------------------------------------------------------------\u001b[0m",
      "\u001b[0;31mNameError\u001b[0m                                 Traceback (most recent call last)",
      "\u001b[0;32m<ipython-input-29-95f951fc1900>\u001b[0m in \u001b[0;36m<module>\u001b[0;34m()\u001b[0m\n\u001b[0;32m----> 1\u001b[0;31m \u001b[0mnp\u001b[0m\u001b[0;34m.\u001b[0m\u001b[0mlogical_or\u001b[0m\u001b[0;34m(\u001b[0m\u001b[0mb\u001b[0m\u001b[0;34m,\u001b[0m\u001b[0ma\u001b[0m\u001b[0;34m>\u001b[0m\u001b[0;36m0\u001b[0m\u001b[0;34m)\u001b[0m\u001b[0;34m\u001b[0m\u001b[0m\n\u001b[0m",
      "\u001b[0;31mNameError\u001b[0m: name 'b' is not defined"
     ],
     "output_type": "error"
    }
   ],
   "source": [
    "np.logical_or(b,a>0)"
   ]
  },
  {
   "cell_type": "code",
   "execution_count": 30,
   "metadata": {},
   "outputs": [],
   "source": [
    "p=r'E:\\pyProject\\TensorflowExercises\\NLP\\nmt\\nmt\\data_subtitles\\vocab_Subtitles.en'"
   ]
  },
  {
   "cell_type": "code",
   "execution_count": 31,
   "metadata": {},
   "outputs": [],
   "source": [
    "with open(p, 'r', encoding='utf8') as f:\n",
    "    suben=f.read()"
   ]
  },
  {
   "cell_type": "code",
   "execution_count": 32,
   "metadata": {},
   "outputs": [],
   "source": [
    "a=re.findall('\\W\\.',suben,flags=re.M)"
   ]
  },
  {
   "cell_type": "code",
   "execution_count": 33,
   "metadata": {},
   "outputs": [
    {
     "data": {
      "text/plain": [
       "{'\\n.', '..', '/.'}"
      ]
     },
     "execution_count": 33,
     "metadata": {},
     "output_type": "execute_result"
    }
   ],
   "source": [
    "set(a)"
   ]
  },
  {
   "cell_type": "code",
   "execution_count": 117,
   "metadata": {},
   "outputs": [],
   "source": [
    "s=r'E:\\corpus\\vocab_Subtitles_20000.zh'"
   ]
  },
  {
   "cell_type": "code",
   "execution_count": 119,
   "metadata": {},
   "outputs": [],
   "source": [
    "with open(s,'r',encoding='utf8') as f:\n",
    "    zh=f.readlines()"
   ]
  },
  {
   "cell_type": "code",
   "execution_count": 77,
   "metadata": {},
   "outputs": [
    {
     "data": {
      "text/plain": [
       "{'。 ', '。 。 ', '。 。 。 ', '。 。 。 。 '}"
      ]
     },
     "execution_count": 77,
     "metadata": {},
     "output_type": "execute_result"
    }
   ],
   "source": [
    "set(re.findall('(?m)(?:。 )+',zh))"
   ]
  },
  {
   "cell_type": "code",
   "execution_count": 124,
   "metadata": {},
   "outputs": [
    {
     "data": {
      "text/plain": [
       "'\\ue277\\n'"
      ]
     },
     "execution_count": 124,
     "metadata": {},
     "output_type": "execute_result"
    }
   ],
   "source": [
    "zh[19507]"
   ]
  },
  {
   "cell_type": "code",
   "execution_count": 37,
   "metadata": {},
   "outputs": [],
   "source": [
    "f.close()"
   ]
  },
  {
   "cell_type": "code",
   "execution_count": 99,
   "metadata": {},
   "outputs": [],
   "source": [
    "path = r'E:\\corpus\\UM-Corpus\\data\\Bilingual\\{0}\\Bi-{0}.txt'.format('Subtitles')"
   ]
  },
  {
   "cell_type": "code",
   "execution_count": 100,
   "metadata": {},
   "outputs": [],
   "source": [
    "with open(path, 'r', encoding='utf8') as f:\n",
    "    s=f.readlines()"
   ]
  },
  {
   "cell_type": "code",
   "execution_count": 40,
   "metadata": {},
   "outputs": [
    {
     "data": {
      "text/plain": [
       "'I have to agreewith my dad on this one... all that other stuff just gets in the way.\\n'"
      ]
     },
     "execution_count": 40,
     "metadata": {},
     "output_type": "execute_result"
    }
   ],
   "source": [
    "s[143928]\n"
   ]
  },
  {
   "cell_type": "code",
   "execution_count": 41,
   "metadata": {},
   "outputs": [
    {
     "data": {
      "text/plain": [
       "'烦心的事情总会来的\\n'"
      ]
     },
     "execution_count": 41,
     "metadata": {},
     "output_type": "execute_result"
    }
   ],
   "source": [
    "s[143929]"
   ]
  },
  {
   "cell_type": "code",
   "execution_count": 42,
   "metadata": {},
   "outputs": [
    {
     "name": "stdout",
     "output_type": "stream",
     "text": [
      "But, Lizzie, you have had problems with chair umpires this year.\n但是，利兹，你今年 和主裁判有一点小麻烦\nSome of the players think you go out of your way to disrupt a match.\n有些选手认为你的出格的方式 破坏了比赛\nI mean, you know, maybe I go a little over the top sometimes, but, you know, maybe that's what I need to do to play my best.\n但是为了达到最好，那是我的一种方式\nAnd that's why I came to London... to win Wimbledon.\n这就是为什么我来到伦敦 赢得温布尔登\n\n"
     ]
    }
   ],
   "source": [
    "print(''.join(s[143930:143938]))"
   ]
  },
  {
   "cell_type": "code",
   "execution_count": 101,
   "metadata": {},
   "outputs": [],
   "source": [
    "zh=s[1::2]"
   ]
  },
  {
   "cell_type": "code",
   "execution_count": 44,
   "metadata": {},
   "outputs": [
    {
     "name": "stdout",
     "output_type": "stream",
     "text": [
      "告诉他们这个可笑的错误\n对，我被问过很多关于我私生活的问题\n－我一般是不回答的 －这就是为什么那称为’私生活‘\n对，我是说 我只是想专注于我的比赛，你知道吗？\n烦心的事情总会来的\n但是，利兹，你今年 和主裁判有一点小麻烦\n有些选手认为你的出格的方式 破坏了比赛\n但是为了达到最好，那是我的一种方式\n这就是为什么我来到伦敦 赢得温布尔登\n\n"
     ]
    }
   ],
   "source": [
    "print(''.join(zh[71960:71969]))"
   ]
  },
  {
   "cell_type": "code",
   "execution_count": 126,
   "metadata": {},
   "outputs": [],
   "source": [
    "t=r'实体\"&q2.uot1.6.;识\"别&quo\\t;4 , 6...as'"
   ]
  },
  {
   "cell_type": "code",
   "execution_count": 129,
   "metadata": {},
   "outputs": [
    {
     "data": {
      "text/plain": [
       "'实体\"&q2 . uot1 . 6 . ;识\"别&quo\\\\t;4 , 6 ... as'"
      ]
     },
     "execution_count": 129,
     "metadata": {},
     "output_type": "execute_result"
    }
   ],
   "source": [
    "t2=re.sub('([.]+)',r' \\1 ',t)\n",
    "t2"
   ]
  },
  {
   "cell_type": "code",
   "execution_count": 132,
   "metadata": {},
   "outputs": [
    {
     "data": {
      "text/plain": [
       "'实体\"&q2 . uot1.6 . ;识\"别&quo\\\\t;4,6 ... as'"
      ]
     },
     "execution_count": 132,
     "metadata": {},
     "output_type": "execute_result"
    }
   ],
   "source": [
    "re.sub(r'(?<=\\d) ([,.]) (?=\\d)',r'\\1',t2)"
   ]
  },
  {
   "cell_type": "code",
   "execution_count": 79,
   "metadata": {},
   "outputs": [],
   "source": [
    "import jieba"
   ]
  },
  {
   "cell_type": "code",
   "execution_count": 89,
   "metadata": {},
   "outputs": [
    {
     "data": {
      "text/plain": [
       "'实体 \" & quot .. ; 识 \" 别 & quot ; ，'"
      ]
     },
     "execution_count": 89,
     "metadata": {},
     "output_type": "execute_result"
    }
   ],
   "source": [
    "' '.join(list(jieba.cut(t)))"
   ]
  },
  {
   "cell_type": "code",
   "execution_count": 103,
   "metadata": {},
   "outputs": [],
   "source": [
    "l=list(jieba.cut(''.join(zh)))"
   ]
  },
  {
   "cell_type": "code",
   "execution_count": 104,
   "metadata": {},
   "outputs": [
    {
     "data": {
      "text/plain": [
       "'我们 正在 通过 许多 不同 的 方法 惹怒 海洋 。 \\n 那时 的 坎纳里 鲁夫 ， 有着 西海岸 最大 的'"
      ]
     },
     "execution_count": 104,
     "metadata": {},
     "output_type": "execute_result"
    }
   ],
   "source": [
    "' '.join(l[:20])"
   ]
  },
  {
   "cell_type": "code",
   "execution_count": 102,
   "metadata": {},
   "outputs": [
    {
     "data": {
      "text/plain": [
       "['我们正在通过许多不同的方法惹怒海洋。\\n',\n '那时的坎纳里鲁夫，有着西海岸最大的工业化罐头工厂。\\n',\n '我们堆积了大量的污染物在空气中和水中。\\n',\n '我所工作的霍普金的海洋研究站的罗尔夫·博林教授，在二十世纪40年代指出，海湾入口里浮沫所散发的臭气特别难闻那里有含铅的黑涂料。\\n',\n '工作在罐头厂的人们每天都只能待在这样的气味之中，然而你知道他们说什么吗？\\n',\n '污染来自于社区的金钱利益，那些人们和污染生活在一起，并把污染吸入了它们的皮肤和身体，因为他们需要钱。\\n',\n '让海洋不高兴，人们也特别不高兴，并且人类还不再健康。\\n',\n '海洋的健康和人类健康之间的联系确实就像另一组谚语说的那样。我觉得这么说：“抓了小鱼，害死鲸鱼”\\n',\n '现在……当一位生态学者看待海洋的时候——我承认——我们用一种十分不同的方式来看待海洋，比起普通人，我们看待海洋时发现的不同之处更多。\\n',\n '因为当生态学家看待海洋的时候，会看到其中的相互联系。\\n',\n '我们看食物链的下层，浮游生物这种小东西，还会看这些小动物们是如何成为位于金字塔中部动物们的食物的，然后就这样一直向上走到这幅图的顶部。\\n',\n '这种生命的流动从最底部流向最顶部，是生态学家们关注的。\\n',\n '并且这就是我们努力去保护的当我们说：“救救海洋，给海洋治治病吧。”\\n',\n '因为，当我们把一些本不该在食物链底部存在的东西塞进了金字塔食物链之后，就出现了很可怕的事情。\\n',\n '一些由我们制造的污染物，像是PCB分子是不能被我们的身体吸收的。\\n',\n '它们进入到食物链金字塔的底部，并不断向上，经过食物链，到达肉食动物和顶端肉食动物这里，这样的话，就堆积起来了。\\n',\n '然后，为了能彻底了解这个问题，我想邀请大家做个小游戏。\\n',\n '我们并不是真的要玩，只是在这里想一下就好。\\n',\n '想象一下当我们登上这艘船，我们都得到了两个保丽龙的花生。\\n',\n '因为规则是：每一次你请别人喝一杯的时候，除了要给别人酒之外，也要把你的保丽龙花生给别人。\\n']"
      ]
     },
     "execution_count": 102,
     "metadata": {},
     "output_type": "execute_result"
    }
   ],
   "source": [
    "zh[:20]"
   ]
  },
  {
   "cell_type": "code",
   "execution_count": null,
   "metadata": {},
   "outputs": [],
   "source": []
  }
 ],
 "metadata": {
  "kernelspec": {
   "display_name": "Python 2",
   "language": "python",
   "name": "python2"
  },
  "language_info": {
   "codemirror_mode": {
    "name": "ipython",
    "version": 2
   },
   "file_extension": ".py",
   "mimetype": "text/x-python",
   "name": "python",
   "nbconvert_exporter": "python",
   "pygments_lexer": "ipython2",
   "version": "2.7.6"
  }
 },
 "nbformat": 4,
 "nbformat_minor": 0
}
